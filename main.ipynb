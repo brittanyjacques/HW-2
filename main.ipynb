{
 "cells": [
  {
   "cell_type": "code",
   "execution_count": 1,
   "id": "50b5749b-566f-4331-bf5a-af169881b7db",
   "metadata": {},
   "outputs": [],
   "source": [
    "import os\n",
    "import csv"
   ]
  },
  {
   "cell_type": "code",
   "execution_count": null,
   "id": "6dbddc92-5fb7-4bf1-aa2e-5fcd05f2719a",
   "metadata": {},
   "outputs": [],
   "source": [
    "#Your task is to create a Python script that analyzes the records to calculate each of the following:\n",
    "\n",
    "\n",
    "#The total number of months included in the dataset.\n",
    "\n",
    "\n",
    "#The net total amount of Profit/Losses over the entire period.\n",
    "\n",
    "\n",
    "#The average of the changes in Profit/Losses over the entire period.\n",
    "\n",
    "\n",
    "#The greatest increase in profits (date and amount) over the entire period.\n",
    "\n",
    "\n",
    "#The greatest decrease in losses (date and amount) over the entire period."
   ]
  },
  {
   "cell_type": "code",
   "execution_count": 2,
   "id": "469e3a2c-502d-448c-842b-5c2e59417545",
   "metadata": {},
   "outputs": [],
   "source": [
    "budget_data = os.path.join(\"../PyBank/Resources/budget_data.csv\")"
   ]
  },
  {
   "cell_type": "code",
   "execution_count": 3,
   "id": "8c052f2e-881f-4b41-a1c3-d233ad30a0ab",
   "metadata": {},
   "outputs": [],
   "source": [
    "ttl_mths = 0\n",
    "ttl_pl = 0\n",
    "value = 0\n",
    "change = 0\n",
    "dates = []\n",
    "profits = []"
   ]
  },
  {
   "cell_type": "code",
   "execution_count": 12,
   "id": "6ed272a5-5c23-49bd-8769-ef9403bf4c40",
   "metadata": {},
   "outputs": [],
   "source": [
    "with open(budget_data, newline = \"\") as csvfile:\n",
    "    csvreader = csv.reader(csvfile, delimiter = \",\")\n",
    "    \n",
    "    csv_header = next(csvreader)\n",
    "    first_row = next(csvreader)\n",
    "    ttl_mths += 1\n",
    "    ttl_pl += int(first_row[1])\n",
    "    value = int(first_row[1])\n",
    "    for row in csvreader: dates.append(row[0])\n",
    "    change = int(row[1])-value\n",
    "    profits.append(change)\n",
    "    value = int(row[1])\n",
    "    ttl_mths += 1\n",
    "    ttl_pl = ttl_pl + int(row[1])"
   ]
  },
  {
   "cell_type": "code",
   "execution_count": 13,
   "id": "685af800-1d43-471e-9c5d-3454ae2bcacc",
   "metadata": {},
   "outputs": [],
   "source": [
    "#increase\n",
    "greatest_increase = max(profits)\n",
    "greatest_index = profits.index(greatest_increase)\n",
    "greatest_date = dates[greatest_index]"
   ]
  },
  {
   "cell_type": "code",
   "execution_count": 15,
   "id": "7a2a9516-0c0a-494f-b999-9e7535d7a10d",
   "metadata": {},
   "outputs": [],
   "source": [
    "#decrease\n",
    "greatest_decrease = min(profits)\n",
    "decrease_index = profits.index(greatest_decrease)\n",
    "decrease_date = dates[decrease_index]"
   ]
  },
  {
   "cell_type": "code",
   "execution_count": null,
   "id": "e313db10-3a84-4444-944e-5733ae7ccfb6",
   "metadata": {},
   "outputs": [],
   "source": []
  },
  {
   "cell_type": "code",
   "execution_count": 16,
   "id": "2be3d57b-0125-42cf-ba1f-a920a0f0d5a6",
   "metadata": {},
   "outputs": [],
   "source": [
    "#average\n",
    "avg_chnge = sum(profits)/len(profits)"
   ]
  },
  {
   "cell_type": "code",
   "execution_count": 25,
   "id": "93917513-094d-4c47-8f29-b4f2fb3066b8",
   "metadata": {},
   "outputs": [
    {
     "name": "stdout",
     "output_type": "stream",
     "text": [
      "financial analysis\n",
      "total months: 9\n",
      "total: $7220601\n",
      "average change: $-196785.0\n",
      "greatest increase in profits: Feb-2010 ($-196785)\n",
      "greatest decrease in profits: Feb-2010 ($-196785)\n"
     ]
    }
   ],
   "source": [
    "print (\"financial analysis\")\n",
    "print(f\"total months: {str(ttl_mths)}\")\n",
    "print(f\"total: ${str(ttl_pl)}\")\n",
    "print(f\"average change: ${str(round(avg_chnge,2))}\")\n",
    "print(f\"greatest increase in profits: {greatest_date} (${str(greatest_increase)})\")\n",
    "print(f\"greatest decrease in profits: {decrease_date} (${str(greatest_decrease)})\")\n"
   ]
  },
  {
   "cell_type": "code",
   "execution_count": null,
   "id": "7b12a9cc-6836-4642-adae-b849eb2e29e6",
   "metadata": {},
   "outputs": [],
   "source": []
  }
 ],
 "metadata": {
  "kernelspec": {
   "display_name": "Python 3",
   "language": "python",
   "name": "python3"
  },
  "language_info": {
   "codemirror_mode": {
    "name": "ipython",
    "version": 3
   },
   "file_extension": ".py",
   "mimetype": "text/x-python",
   "name": "python",
   "nbconvert_exporter": "python",
   "pygments_lexer": "ipython3",
   "version": "3.8.8"
  }
 },
 "nbformat": 4,
 "nbformat_minor": 5
}
